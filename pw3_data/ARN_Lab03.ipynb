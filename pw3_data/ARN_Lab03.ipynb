{
 "cells": [
  {
   "cell_type": "markdown",
   "metadata": {},
   "source": [
    "# Notebook ARN_Lab03\n",
    "\n",
    "@Authors: Parisod Nathan & Lestiboudois Maxime"
   ]
  },
  {
   "cell_type": "markdown",
   "metadata": {},
   "source": [
    "**EXERCICE 1**"
   ]
  },
  {
   "cell_type": "code",
   "execution_count": 3,
   "metadata": {},
   "outputs": [],
   "source": [
    "# Import des bibliothèques nécessaires\n",
    "import pandas as pd\n",
    "from sklearn.preprocessing import StandardScaler\n",
    "import numpy as np\n",
    "import matplotlib.pyplot as mp\n",
    "import seaborn as sns\n",
    "import tensorflow as tf\n",
    "\n",
    "\n",
    "from keras import layers\n",
    "from sklearn.model_selection import KFold\n",
    "from sklearn.metrics import confusion_matrix\n",
    "from sklearn.metrics import f1_score\n",
    "from keras.utils import to_categorical\n",
    "from sklearn.preprocessing import LabelEncoder\n",
    "from tensorflow.keras.models import Sequential\n",
    "from tensorflow.keras.layers import Dense, InputLayer"
   ]
  },
  {
   "cell_type": "code",
   "execution_count": 4,
   "metadata": {},
   "outputs": [],
   "source": [
    "\n",
    "# 2. Chargement des données\n",
    "train_1 = pd.read_csv('EEG_mouse_data_1.csv')\n",
    "train_2 = pd.read_csv('EEG_mouse_data_2.csv')\n",
    "test = pd.read_csv('EEG_mouse_data_test.csv')\n",
    "\n"
   ]
  },
  {
   "cell_type": "code",
   "execution_count": 5,
   "metadata": {},
   "outputs": [],
   "source": [
    "# 3. Concaténation des données d'entraînement\n",
    "\n",
    "train = pd.concat([train_1, train_2], ignore_index=True)\n",
    "\n"
   ]
  },
  {
   "cell_type": "code",
   "execution_count": 6,
   "metadata": {},
   "outputs": [],
   "source": [
    "# 4. Sélection des caractéristiques\n",
    "features = train.columns[1:26]  # colonnes 1 à 25 (amplitudes)\n",
    "X_train = train[features]\n",
    "X_test = test[features]\n",
    "train_essay = train.iloc[:, :26]\n",
    "\n"
   ]
  },
  {
   "cell_type": "code",
   "execution_count": 7,
   "metadata": {},
   "outputs": [
    {
     "name": "stdout",
     "output_type": "stream",
     "text": [
      "      state  amplitude_around_1_Hertz  amplitude_around_2_Hertz  \\\n",
      "0         n                  0.000009                  0.000014   \n",
      "1         n                  0.000010                  0.000010   \n",
      "2         n                  0.000011                  0.000077   \n",
      "3         w                  0.000003                  0.000031   \n",
      "4         w                  0.000010                  0.000011   \n",
      "...     ...                       ...                       ...   \n",
      "40858     w                  0.000025                  0.000007   \n",
      "40859     w                  0.000017                  0.000038   \n",
      "40860     w                  0.000016                  0.000028   \n",
      "40861     w                  0.000013                  0.000014   \n",
      "40862     w                  0.000004                  0.000006   \n",
      "\n",
      "       amplitude_around_3_Hertz  amplitude_around_4_Hertz  \\\n",
      "0                      0.000013                  0.000014   \n",
      "1                      0.000011                  0.000015   \n",
      "2                      0.000034                  0.000019   \n",
      "3                      0.000044                  0.000016   \n",
      "4                      0.000012                  0.000017   \n",
      "...                         ...                       ...   \n",
      "40858                  0.000007                  0.000003   \n",
      "40859                  0.000015                  0.000011   \n",
      "40860                  0.000031                  0.000011   \n",
      "40861                  0.000020                  0.000018   \n",
      "40862                  0.000011                  0.000025   \n",
      "\n",
      "       amplitude_around_5_Hertz  amplitude_around_6_Hertz  \\\n",
      "0                      0.000023                  0.000009   \n",
      "1                      0.000022                  0.000017   \n",
      "2                      0.000013                  0.000006   \n",
      "3                      0.000007                  0.000006   \n",
      "4                      0.000020                  0.000018   \n",
      "...                         ...                       ...   \n",
      "40858                  0.000005                  0.000002   \n",
      "40859                  0.000019                  0.000006   \n",
      "40860                  0.000019                  0.000001   \n",
      "40861                  0.000007                  0.000013   \n",
      "40862                  0.000040                  0.000007   \n",
      "\n",
      "       amplitude_around_7_Hertz  amplitude_around_8_Hertz  \\\n",
      "0                      0.000019                  0.000011   \n",
      "1                      0.000027                  0.000011   \n",
      "2                      0.000010                  0.000004   \n",
      "3                      0.000005                  0.000007   \n",
      "4                      0.000014                  0.000025   \n",
      "...                         ...                       ...   \n",
      "40858                  0.000005                  0.000010   \n",
      "40859                  0.000010                  0.000012   \n",
      "40860                  0.000015                  0.000002   \n",
      "40861                  0.000009                  0.000018   \n",
      "40862                  0.000005                  0.000021   \n",
      "\n",
      "       amplitude_around_9_Hertz  ...  amplitude_around_16_Hertz  \\\n",
      "0                      0.000016  ...               1.121431e-06   \n",
      "1                      0.000011  ...               1.214325e-06   \n",
      "2                      0.000006  ...               2.251707e-06   \n",
      "3                      0.000006  ...               2.197342e-06   \n",
      "4                      0.000018  ...               3.330912e-06   \n",
      "...                         ...  ...                        ...   \n",
      "40858                  0.000013  ...               7.605994e-07   \n",
      "40859                  0.000009  ...               4.660933e-07   \n",
      "40860                  0.000007  ...               9.727383e-07   \n",
      "40861                  0.000005  ...               7.172008e-07   \n",
      "40862                  0.000011  ...               1.841960e-06   \n",
      "\n",
      "       amplitude_around_17_Hertz  amplitude_around_18_Hertz  \\\n",
      "0                   9.572615e-07               7.912338e-07   \n",
      "1                   2.456797e-06               2.102875e-06   \n",
      "2                   3.322518e-06               1.112426e-06   \n",
      "3                   8.276670e-07               6.019235e-07   \n",
      "4                   3.003597e-06               3.560957e-06   \n",
      "...                          ...                        ...   \n",
      "40858               5.857975e-07               2.008976e-06   \n",
      "40859               4.797065e-07               1.377159e-06   \n",
      "40860               5.698932e-07               8.794702e-07   \n",
      "40861               1.828871e-06               5.327440e-07   \n",
      "40862               2.496559e-06               8.287230e-07   \n",
      "\n",
      "       amplitude_around_19_Hertz  amplitude_around_20_Hertz  \\\n",
      "0                   2.075210e-06               2.125421e-06   \n",
      "1                   3.754975e-07               1.144381e-06   \n",
      "2                   8.238182e-07               8.392117e-07   \n",
      "3                   3.639088e-07               3.230235e-07   \n",
      "4                   1.856221e-06               8.180798e-07   \n",
      "...                          ...                        ...   \n",
      "40858               1.047500e-06               8.361965e-07   \n",
      "40859               1.549855e-06               2.014634e-06   \n",
      "40860               9.412227e-07               7.479130e-07   \n",
      "40861               5.149679e-07               6.310218e-07   \n",
      "40862               1.240961e-06               6.318763e-07   \n",
      "\n",
      "       amplitude_around_21_Hertz  amplitude_around_22_Hertz  \\\n",
      "0                   9.183682e-07               1.442768e-06   \n",
      "1                   1.869306e-06               9.546215e-07   \n",
      "2                   6.979253e-07               4.631708e-07   \n",
      "3                   4.536860e-07               5.793950e-07   \n",
      "4                   1.657310e-06               2.038410e-06   \n",
      "...                          ...                        ...   \n",
      "40858               1.187530e-06               1.362517e-06   \n",
      "40859               1.006481e-06               1.255027e-06   \n",
      "40860               1.173636e-07               8.319340e-07   \n",
      "40861               4.164332e-07               3.309523e-07   \n",
      "40862               4.139715e-07               1.134125e-06   \n",
      "\n",
      "       amplitude_around_23_Hertz  amplitude_around_24_Hertz  \\\n",
      "0                   1.315617e-06               1.882535e-06   \n",
      "1                   8.958666e-07               2.865039e-07   \n",
      "2                   3.179654e-07               3.833318e-07   \n",
      "3                   2.854656e-07               9.187695e-07   \n",
      "4                   9.678699e-07               6.374025e-07   \n",
      "...                          ...                        ...   \n",
      "40858               1.155722e-06               4.674335e-07   \n",
      "40859               7.684788e-07               1.131635e-06   \n",
      "40860               1.222192e-07               1.277335e-07   \n",
      "40861               8.170078e-07               6.630207e-07   \n",
      "40862               3.685242e-06               7.301847e-07   \n",
      "\n",
      "       amplitude_around_25_Hertz  \n",
      "0                   3.555321e-07  \n",
      "1                   8.280935e-07  \n",
      "2                   2.466324e-07  \n",
      "3                   5.579241e-07  \n",
      "4                   8.643028e-07  \n",
      "...                          ...  \n",
      "40858               4.710592e-07  \n",
      "40859               1.080890e-06  \n",
      "40860               2.256663e-07  \n",
      "40861               9.615590e-07  \n",
      "40862               1.334593e-06  \n",
      "\n",
      "[40863 rows x 26 columns]\n"
     ]
    }
   ],
   "source": [
    "print(train_essay)"
   ]
  },
  {
   "cell_type": "code",
   "execution_count": 10,
   "metadata": {},
   "outputs": [
    {
     "name": "stdout",
     "output_type": "stream",
     "text": [
      "Index(['version https://git-lfs.github.com/spec/v1'], dtype='object')\n"
     ]
    }
   ],
   "source": [
    "print(train.columns)"
   ]
  },
  {
   "cell_type": "code",
   "execution_count": 8,
   "metadata": {},
   "outputs": [],
   "source": [
    "# 6. Normalisation\n",
    "scaler = StandardScaler()\n",
    "X_train_scaled = scaler.fit_transform(X_train)\n",
    "X_test_scaled = scaler.transform(X_test)\n",
    "\n"
   ]
  },
  {
   "cell_type": "code",
   "execution_count": 9,
   "metadata": {},
   "outputs": [],
   "source": [
    "# Optionnel : convertir les données normalisées en DataFrame\n",
    "X_train_scaled = pd.DataFrame(X_train_scaled, columns=features)\n",
    "X_test_scaled = pd.DataFrame(X_test_scaled, columns=features)\n",
    "\n"
   ]
  },
  {
   "cell_type": "code",
   "execution_count": 10,
   "metadata": {},
   "outputs": [
    {
     "name": "stdout",
     "output_type": "stream",
     "text": [
      "   amplitude_around_1_Hertz  amplitude_around_2_Hertz  \\\n",
      "0                 -0.209955                 -0.081998   \n",
      "1                 -0.183434                 -0.325791   \n",
      "2                 -0.143389                  3.683546   \n",
      "3                 -0.443261                  0.947062   \n",
      "4                 -0.187587                 -0.238456   \n",
      "\n",
      "   amplitude_around_3_Hertz  amplitude_around_4_Hertz  \\\n",
      "0                 -0.105121                 -0.027861   \n",
      "1                 -0.230518                  0.068381   \n",
      "2                  1.390184                  0.315788   \n",
      "3                  2.070365                  0.140069   \n",
      "4                 -0.177577                  0.177870   \n",
      "\n",
      "   amplitude_around_5_Hertz  amplitude_around_6_Hertz  \\\n",
      "0                  0.818127                 -0.239219   \n",
      "1                  0.740384                  0.553920   \n",
      "2                  0.036759                 -0.564602   \n",
      "3                 -0.510886                 -0.573552   \n",
      "4                  0.570556                  0.723715   \n",
      "\n",
      "   amplitude_around_7_Hertz  amplitude_around_8_Hertz  \\\n",
      "0                  0.668757                 -0.127320   \n",
      "1                  1.392473                 -0.100262   \n",
      "2                 -0.180452                 -0.749074   \n",
      "3                 -0.637377                 -0.471410   \n",
      "4                  0.226759                  1.182129   \n",
      "\n",
      "   amplitude_around_9_Hertz  amplitude_around_10_Hertz  ...  \\\n",
      "0                  0.709286                   1.309698  ...   \n",
      "1                  0.099354                   0.255845  ...   \n",
      "2                 -0.457418                  -0.722203  ...   \n",
      "3                 -0.465943                   0.340032  ...   \n",
      "4                  0.829106                   0.403632  ...   \n",
      "\n",
      "   amplitude_around_16_Hertz  amplitude_around_17_Hertz  \\\n",
      "0                  -0.326857                  -0.356923   \n",
      "1                  -0.263410                   0.893280   \n",
      "2                   0.445116                   1.615055   \n",
      "3                   0.407986                  -0.464970   \n",
      "4                   1.182209                   1.349163   \n",
      "\n",
      "   amplitude_around_18_Hertz  amplitude_around_19_Hertz  \\\n",
      "0                  -0.429006                   1.140943   \n",
      "1                   0.874745                  -0.827062   \n",
      "2                  -0.109746                  -0.307976   \n",
      "3                  -0.617177                  -0.840480   \n",
      "4                   2.324057                   0.887388   \n",
      "\n",
      "   amplitude_around_20_Hertz  amplitude_around_21_Hertz  \\\n",
      "0                   1.497041                   0.046292   \n",
      "1                   0.216172                   1.456953   \n",
      "2                  -0.182265                  -0.280723   \n",
      "3                  -0.856213                  -0.643038   \n",
      "4                  -0.209855                   1.142469   \n",
      "\n",
      "   amplitude_around_22_Hertz  amplitude_around_23_Hertz  \\\n",
      "0                   1.045339                   1.018279   \n",
      "1                   0.229637                   0.251268   \n",
      "2                  -0.591587                  -0.804733   \n",
      "3                  -0.397374                  -0.864120   \n",
      "4                   2.040669                   0.382839   \n",
      "\n",
      "   amplitude_around_24_Hertz  amplitude_around_25_Hertz  \n",
      "0                   2.308318                  -0.662605  \n",
      "1                  -0.836158                   0.351154  \n",
      "2                  -0.645389                  -0.896221  \n",
      "3                   0.409522                  -0.228425  \n",
      "4                  -0.144823                   0.428831  \n",
      "\n",
      "[5 rows x 25 columns]\n",
      "   amplitude_around_1_Hertz  amplitude_around_2_Hertz  \\\n",
      "0                 -0.449345                  3.065788   \n",
      "1                  0.108403                  0.217589   \n",
      "2                 -0.132308                  0.419267   \n",
      "3                 -0.338810                 -0.403041   \n",
      "4                 -0.458136                 -0.587926   \n",
      "\n",
      "   amplitude_around_3_Hertz  amplitude_around_4_Hertz  \\\n",
      "0                  1.192927                  1.678814   \n",
      "1                  1.974172                  0.371648   \n",
      "2                 -0.298767                  0.680814   \n",
      "3                  1.841430                  3.181600   \n",
      "4                  1.336383                  8.023574   \n",
      "\n",
      "   amplitude_around_5_Hertz  amplitude_around_6_Hertz  \\\n",
      "0                  1.157048                  3.030177   \n",
      "1                 -0.686305                 -0.199009   \n",
      "2                  2.451200                  1.087784   \n",
      "3                  1.653114                  0.790496   \n",
      "4                  6.080555                 -0.447702   \n",
      "\n",
      "   amplitude_around_7_Hertz  amplitude_around_8_Hertz  \\\n",
      "0                  0.768370                 -0.587724   \n",
      "1                 -0.275661                 -0.895288   \n",
      "2                  0.504483                 -0.165350   \n",
      "3                  0.354908                 -0.738807   \n",
      "4                  0.616732                  0.498348   \n",
      "\n",
      "   amplitude_around_9_Hertz  amplitude_around_10_Hertz  ...  \\\n",
      "0                 -0.700055                  -0.660448  ...   \n",
      "1                 -0.698639                  -0.064925  ...   \n",
      "2                 -0.544300                  -0.861253  ...   \n",
      "3                 -0.685681                   1.067402  ...   \n",
      "4                 -0.172738                  -0.639098  ...   \n",
      "\n",
      "   amplitude_around_16_Hertz  amplitude_around_17_Hertz  \\\n",
      "0                   0.167803                   0.025460   \n",
      "1                  -0.538395                   0.320372   \n",
      "2                   0.659238                  -0.031226   \n",
      "3                   0.161061                  -0.215269   \n",
      "4                  -0.807142                   0.841846   \n",
      "\n",
      "   amplitude_around_18_Hertz  amplitude_around_19_Hertz  \\\n",
      "0                  -0.665603                  -0.916456   \n",
      "1                   0.977817                  -0.293481   \n",
      "2                  -0.900141                  -0.755146   \n",
      "3                  -0.761149                   1.539756   \n",
      "4                   0.793704                   0.132819   \n",
      "\n",
      "   amplitude_around_20_Hertz  amplitude_around_21_Hertz  \\\n",
      "0                  -0.086669                   1.742246   \n",
      "1                   0.257650                   4.652747   \n",
      "2                   0.578801                  -0.888043   \n",
      "3                  -0.115580                  -0.023855   \n",
      "4                  -0.541773                   1.158159   \n",
      "\n",
      "   amplitude_around_22_Hertz  amplitude_around_23_Hertz  \\\n",
      "0                   1.183523                   0.495721   \n",
      "1                  -0.267204                   1.833176   \n",
      "2                   0.224818                  -0.428942   \n",
      "3                   0.981730                   0.177299   \n",
      "4                   4.160776                  -0.704404   \n",
      "\n",
      "   amplitude_around_24_Hertz  amplitude_around_25_Hertz  \n",
      "0                  -0.410167                  -0.458704  \n",
      "1                   0.408327                  -0.028536  \n",
      "2                  -0.989235                  -0.623533  \n",
      "3                  -0.572541                  -0.302646  \n",
      "4                   1.550956                   1.116904  \n",
      "\n",
      "[5 rows x 25 columns]\n"
     ]
    }
   ],
   "source": [
    "# Vérification rapide\n",
    "print(X_train_scaled.head())\n",
    "print(X_test_scaled.head())"
   ]
  },
  {
   "cell_type": "code",
   "execution_count": 11,
   "metadata": {},
   "outputs": [
    {
     "name": "stdout",
     "output_type": "stream",
     "text": [
      "Indices entraînement: [    0     2     3 ... 40859 40860 40862]\n",
      "Indices validation: [    1     4     6 ... 40856 40857 40861]\n",
      "Indices entraînement: [    1     2     4 ... 40859 40860 40861]\n",
      "Indices validation: [    0     3     5 ... 40851 40858 40862]\n",
      "Indices entraînement: [    0     1     3 ... 40858 40861 40862]\n",
      "Indices validation: [    2     9    10 ... 40854 40859 40860]\n"
     ]
    }
   ],
   "source": [
    "\n",
    "# Configuration de la validation croisée à 3 plis avec mélange\n",
    "kf = KFold(n_splits=3, shuffle=True, random_state=42)\n",
    "\n",
    "# Affichage des indices pour validation\n",
    "for train_index, val_index in kf.split(X_train_scaled):\n",
    "    print(\"Indices entraînement:\", train_index)\n",
    "    print(\"Indices validation:\", val_index)"
   ]
  },
  {
   "cell_type": "code",
   "execution_count": 13,
   "metadata": {},
   "outputs": [
    {
     "ename": "NameError",
     "evalue": "name 'y_train' is not defined",
     "output_type": "error",
     "traceback": [
      "\u001b[0;31m---------------------------------------------------------------------------\u001b[0m",
      "\u001b[0;31mNameError\u001b[0m                                 Traceback (most recent call last)",
      "Cell \u001b[0;32mIn[13], line 1\u001b[0m\n\u001b[0;32m----> 1\u001b[0m y_binary \u001b[38;5;241m=\u001b[39m y_train\u001b[38;5;241m.\u001b[39mreplace({\u001b[38;5;124m'\u001b[39m\u001b[38;5;124mn\u001b[39m\u001b[38;5;124m'\u001b[39m: \u001b[38;5;124m'\u001b[39m\u001b[38;5;124masleep\u001b[39m\u001b[38;5;124m'\u001b[39m, \u001b[38;5;124m'\u001b[39m\u001b[38;5;124mr\u001b[39m\u001b[38;5;124m'\u001b[39m: \u001b[38;5;124m'\u001b[39m\u001b[38;5;124masleep\u001b[39m\u001b[38;5;124m'\u001b[39m, \u001b[38;5;124m'\u001b[39m\u001b[38;5;124mw\u001b[39m\u001b[38;5;124m'\u001b[39m: \u001b[38;5;124m'\u001b[39m\u001b[38;5;124mawake\u001b[39m\u001b[38;5;124m'\u001b[39m})\n",
      "\u001b[0;31mNameError\u001b[0m: name 'y_train' is not defined"
     ]
    }
   ],
   "source": [
    "y_binary = y_train.replace({'n': 'asleep', 'r': 'asleep', 'w': 'awake'})"
   ]
  },
  {
   "cell_type": "code",
   "execution_count": 1,
   "metadata": {},
   "outputs": [
    {
     "ename": "ModuleNotFoundError",
     "evalue": "No module named 'sklearn'",
     "output_type": "error",
     "traceback": [
      "\u001b[0;31m---------------------------------------------------------------------------\u001b[0m",
      "\u001b[0;31mModuleNotFoundError\u001b[0m                       Traceback (most recent call last)",
      "Cell \u001b[0;32mIn[1], line 1\u001b[0m\n\u001b[0;32m----> 1\u001b[0m \u001b[38;5;28;01mfrom\u001b[39;00m \u001b[38;5;21;01msklearn\u001b[39;00m\u001b[38;5;21;01m.\u001b[39;00m\u001b[38;5;21;01mpreprocessing\u001b[39;00m \u001b[38;5;28;01mimport\u001b[39;00m LabelEncoder\n\u001b[1;32m      3\u001b[0m le \u001b[38;5;241m=\u001b[39m LabelEncoder()\n\u001b[1;32m      4\u001b[0m y_encoded \u001b[38;5;241m=\u001b[39m le\u001b[38;5;241m.\u001b[39mfit_transform(y_binary)\n",
      "\u001b[0;31mModuleNotFoundError\u001b[0m: No module named 'sklearn'"
     ]
    }
   ],
   "source": [
    "\n",
    "le = LabelEncoder()\n",
    "y_encoded = le.fit_transform(y_binary)"
   ]
  },
  {
   "cell_type": "code",
   "execution_count": 2,
   "metadata": {},
   "outputs": [
    {
     "ename": "ModuleNotFoundError",
     "evalue": "No module named 'tensorflow'",
     "output_type": "error",
     "traceback": [
      "\u001b[0;31m---------------------------------------------------------------------------\u001b[0m",
      "\u001b[0;31mModuleNotFoundError\u001b[0m                       Traceback (most recent call last)",
      "Cell \u001b[0;32mIn[2], line 1\u001b[0m\n\u001b[0;32m----> 1\u001b[0m \u001b[38;5;28;01mimport\u001b[39;00m \u001b[38;5;21;01mtensorflow\u001b[39;00m \u001b[38;5;28;01mas\u001b[39;00m \u001b[38;5;21;01mtf\u001b[39;00m\n\u001b[1;32m      2\u001b[0m \u001b[38;5;28;01mfrom\u001b[39;00m \u001b[38;5;21;01mtensorflow\u001b[39;00m\u001b[38;5;21;01m.\u001b[39;00m\u001b[38;5;21;01mkeras\u001b[39;00m\u001b[38;5;21;01m.\u001b[39;00m\u001b[38;5;21;01mmodels\u001b[39;00m \u001b[38;5;28;01mimport\u001b[39;00m Sequential\n\u001b[1;32m      3\u001b[0m \u001b[38;5;28;01mfrom\u001b[39;00m \u001b[38;5;21;01mtensorflow\u001b[39;00m\u001b[38;5;21;01m.\u001b[39;00m\u001b[38;5;21;01mkeras\u001b[39;00m\u001b[38;5;21;01m.\u001b[39;00m\u001b[38;5;21;01mlayers\u001b[39;00m \u001b[38;5;28;01mimport\u001b[39;00m Dense, InputLayer\n",
      "\u001b[0;31mModuleNotFoundError\u001b[0m: No module named 'tensorflow'"
     ]
    }
   ],
   "source": [
    "\n",
    "\n",
    "model = Sequential([\n",
    "    InputLayer(input_shape=(X_train_scaled.shape[1],)),\n",
    "    Dense(64, activation='relu'),\n",
    "    Dense(32, activation='relu'),\n",
    "    Dense(1, activation='sigmoid')  # 1 sortie car binaire\n",
    "])\n",
    "\n",
    "model.compile(optimizer='adam', loss='binary_crossentropy', metrics=['accuracy'])\n",
    "\n",
    "history = model.fit(X_train_scaled, y_encoded, epochs=20, batch_size=32, validation_split=0.2)"
   ]
  },
  {
   "cell_type": "code",
   "execution_count": null,
   "metadata": {},
   "outputs": [],
   "source": []
  },
  {
   "cell_type": "code",
   "execution_count": null,
   "metadata": {},
   "outputs": [],
   "source": []
  },
  {
   "cell_type": "code",
   "execution_count": null,
   "metadata": {},
   "outputs": [],
   "source": []
  }
 ],
 "metadata": {
  "colab": {
   "provenance": []
  },
  "kernelspec": {
   "display_name": "arn-env",
   "language": "python",
   "name": "arn-env"
  },
  "language_info": {
   "codemirror_mode": {
    "name": "ipython",
    "version": 3
   },
   "file_extension": ".py",
   "mimetype": "text/x-python",
   "name": "python",
   "nbconvert_exporter": "python",
   "pygments_lexer": "ipython3",
   "version": "3.12.9"
  },
  "widgets": {
   "application/vnd.jupyter.widget-state+json": {
    "state": {},
    "version_major": 2,
    "version_minor": 0
   }
  }
 },
 "nbformat": 4,
 "nbformat_minor": 4
}
